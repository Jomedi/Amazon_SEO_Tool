{
 "cells": [
  {
   "cell_type": "markdown",
   "id": "21139e46",
   "metadata": {},
   "source": [
    "# Imports"
   ]
  },
  {
   "cell_type": "code",
   "execution_count": 1,
   "id": "b402924b",
   "metadata": {},
   "outputs": [],
   "source": [
    "from selenium import webdriver\n",
    "from selenium.webdriver.common.by import By\n",
    "from selenium.webdriver.chrome.service import Service\n",
    "from selenium.webdriver.chrome.options import Options\n",
    "from selenium.webdriver.support.ui import WebDriverWait\n",
    "from selenium.webdriver.support import expected_conditions as EC\n",
    "from selenium.webdriver.common.keys import Keys\n",
    "from urllib.parse import quote\n",
    "import json\n",
    "import nltk\n",
    "import re\n",
    "from collections import Counter\n",
    "from nltk.corpus import stopwords\n",
    "from itertools import combinations\n",
    "from nltk.stem import WordNetLemmatizer"
   ]
  },
  {
   "cell_type": "markdown",
   "id": "d7a29772",
   "metadata": {},
   "source": [
    "# Configuration"
   ]
  },
  {
   "cell_type": "code",
   "execution_count": 2,
   "id": "00fb9b27",
   "metadata": {},
   "outputs": [],
   "source": [
    "# Configura la ubicación del controlador de Chrome\n",
    "chrome_driver_path = \"chromedriver-win64/chromedriver.exe\"\n",
    "\n",
    "# Configura las opciones del navegador para desactivar las notificaciones\n",
    "chrome_options = Options()\n",
    "chrome_options.add_argument(\"--disable-notifications\")\n",
    "# chrome_options.add_argument(\"--headless\")"
   ]
  },
  {
   "cell_type": "markdown",
   "id": "6bc7929d",
   "metadata": {},
   "source": [
    "# Functions"
   ]
  },
  {
   "cell_type": "code",
   "execution_count": 10,
   "id": "fd450eeb",
   "metadata": {},
   "outputs": [],
   "source": [
    "import pandas as pd\n",
    "\n",
    "def save_common_words_to_excel(common_words, searchElement, country):\n",
    "    excel_name = searchElement + \"-\" + country + \".xlsx\"\n",
    "    if common_words:\n",
    "        # Crear un DataFrame a partir de las palabras más comunes\n",
    "        df = pd.DataFrame(common_words, columns=['Palabra', 'Frecuencia'])\n",
    "\n",
    "        # Calcular el total de frecuencias\n",
    "        total_frecuencias = df['Frecuencia'].sum()\n",
    "\n",
    "        # Calcular el porcentaje de aparición con dos decimales\n",
    "        df['Porcentaje'] = ((df['Frecuencia'] / total_frecuencias) * 100).round(2)\n",
    "\n",
    "        # Guardar el DataFrame en un archivo Excel\n",
    "        df.to_excel(excel_name, index=False)\n",
    "        print(f\"Palabras comunes guardadas en {excel_name}\")\n",
    "    else:\n",
    "        print(\"No hay datos para guardar en el archivo Excel.\")"
   ]
  },
  {
   "cell_type": "markdown",
   "id": "d89a2d6e",
   "metadata": {},
   "source": [
    "# Scrapper"
   ]
  },
  {
   "cell_type": "code",
   "execution_count": 9,
   "id": "130b655f",
   "metadata": {},
   "outputs": [],
   "source": [
    "# Configura la ubicación del controlador de Chrome\n",
    "chrome_driver_path = \"chromedriver-win64/chromedriver.exe\"\n",
    "\n",
    "# Configura las opciones del navegador para desactivar las notificaciones\n",
    "chrome_options = Options()\n",
    "chrome_options.add_argument(\"--disable-notifications\")\n",
    "# chrome_options.add_argument(\"--headless\")\n",
    "\n",
    "def SEOBusqueda(searchElement,country):\n",
    "    # Inicializa el servicio del controlador y el navegador\n",
    "    service = Service(chrome_driver_path)\n",
    "    driver = webdriver.Chrome(service=service, options=chrome_options)\n",
    "\n",
    "    url = \"https://www.amazon.\" + country + \"/\"\n",
    "    driver.get(url)\n",
    "\n",
    "    # Espera explícitamente hasta que el campo de búsqueda esté presente en la página\n",
    "    wait = WebDriverWait(driver, 20)\n",
    "    try:\n",
    "        search_input = wait.until(EC.presence_of_element_located((By.ID, \"twotabsearchtextbox\")))\n",
    "    except:\n",
    "        try:\n",
    "            search_input = wait.until(EC.presence_of_element_located((By.ID, \"nav-bb-search\")))\n",
    "        except:\n",
    "            print(\"No se pudo encontrar un campo de búsqueda válido.\")\n",
    "\n",
    "    search_input.send_keys(searchElement)\n",
    "    search_input.send_keys(Keys.RETURN)\n",
    "\n",
    "    # Espera a que la página de resultados cargue\n",
    "    wait.until(EC.presence_of_element_located((By.XPATH, '//span[@class=\"a-size-base-plus a-color-base a-text-normal\"]')))\n",
    "\n",
    "    # Verifica si hay un captcha en la página\n",
    "    captcha_present = False\n",
    "    try:\n",
    "        captcha_element = driver.find_element(By.XPATH, '//div[@class=\"a-box a-alert a-alert-info a-spacing-base\"]')\n",
    "        captcha_present = captcha_element.is_displayed()\n",
    "    except:\n",
    "        pass\n",
    "\n",
    "    if captcha_present:\n",
    "        print(\"Se detectó un captcha. Por favor, completa el captcha manualmente y luego presiona Enter aquí.\")\n",
    "        input(\"Presiona Enter para continuar después de completar el captcha.\")\n",
    "\n",
    "    # Continúa con el resto del código después de que se haya completado el captcha\n",
    "    spans = driver.find_elements(By.XPATH, '//span[@class=\"a-size-base-plus a-color-base a-text-normal\"]')\n",
    "\n",
    "\n",
    "    # Inicializa una lista para almacenar todas las palabras y combinaciones de dos palabras\n",
    "    todas_las_palabras = []\n",
    "\n",
    "    # Obtiene la lista de palabras de paro en español\n",
    "    stop_words = set(stopwords.words('spanish'))\n",
    "\n",
    "    # Agrega las preposiciones y determinantes que deseas filtrar\n",
    "    stop_words.update(['el', 'la', 'los', 'las', 'un', 'una', 'de', 'en', 'con', 'para', 'por', 'a', 'su', 'sus', 'mi', 'mis', 'tu', 'tus', 'nuestro', 'nuestra', 'nuestros', 'nuestras'])  # Agrega más según sea necesario\n",
    "\n",
    "    # Inicializa el lematizador de palabras\n",
    "    lemmatizer = WordNetLemmatizer()\n",
    "\n",
    "    # Itera a través de los elementos encontrados y agrega sus textos a la lista\n",
    "    for span in spans:\n",
    "        texto = span.text\n",
    "        palabras = texto.split()  # Tokeniza el texto en palabras\n",
    "        \n",
    "        # Normaliza las palabras (lematización)\n",
    "        palabras_normalizadas = [lemmatizer.lemmatize(palabra) for palabra in palabras]\n",
    "        \n",
    "        # Limpia las palabras de comas y caracteres especiales\n",
    "        palabras_limpias = [palabra.replace(',', '') for palabra in palabras_normalizadas]\n",
    "\n",
    "        # Filtra las palabras limpias que no están en la lista de palabras de paro, no son números ni son palabras de una letra\n",
    "        palabras_filtradas = [palabra for palabra in palabras_limpias if palabra.lower() not in stop_words and not palabra.isdigit() and len(palabra) > 1]\n",
    "\n",
    "        todas_las_palabras.extend(palabras_filtradas)\n",
    "    \n",
    "    # Crea un diccionario que cuente la frecuencia de cada palabra o combinación\n",
    "    contador = Counter(todas_las_palabras)\n",
    "\n",
    "    # Ordena el diccionario por frecuencia de mayor a menor\n",
    "    palabras_mas_comunes = contador.most_common()\n",
    "\n",
    "    # Imprime las palabras más comunes\n",
    "    # for palabra, frecuencia in palabras_mas_comunes:\n",
    "    #     print(f'{palabra}: {frecuencia}')\n",
    "\n",
    "    # Cierra el navegador\n",
    "    driver.quit()\n",
    "\n",
    "    save_common_words_to_excel(palabras_mas_comunes, searchElement, country)\n"
   ]
  },
  {
   "cell_type": "code",
   "execution_count": 11,
   "id": "59109ad1",
   "metadata": {
    "scrolled": false
   },
   "outputs": [
    {
     "name": "stdout",
     "output_type": "stream",
     "text": [
      "Palabras comunes guardadas en Nappe-fr.xlsx\n"
     ]
    }
   ],
   "source": [
    "SEOBusqueda(\"Nappe\", \"fr\")"
   ]
  },
  {
   "cell_type": "code",
   "execution_count": null,
   "id": "7101a2b1",
   "metadata": {},
   "outputs": [],
   "source": []
  }
 ],
 "metadata": {
  "kernelspec": {
   "display_name": "Python 3 (ipykernel)",
   "language": "python",
   "name": "python3"
  },
  "language_info": {
   "codemirror_mode": {
    "name": "ipython",
    "version": 3
   },
   "file_extension": ".py",
   "mimetype": "text/x-python",
   "name": "python",
   "nbconvert_exporter": "python",
   "pygments_lexer": "ipython3",
   "version": "3.10.7"
  }
 },
 "nbformat": 4,
 "nbformat_minor": 5
}
